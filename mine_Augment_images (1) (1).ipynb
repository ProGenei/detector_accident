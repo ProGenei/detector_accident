{
  "nbformat": 4,
  "nbformat_minor": 0,
  "metadata": {
    "colab": {
      "provenance": []
    },
    "kernelspec": {
      "name": "python3",
      "display_name": "Python 3"
    },
    "language_info": {
      "name": "python"
    }
  },
  "cells": [
    {
      "cell_type": "markdown",
      "source": [
        "In this code, I did these things to increase the accuracy and number of dataset\n",
        "\n",
        " 1-Brightness\n",
        "\n",
        "  2-Rotation\n",
        "\n",
        "  3-Resolution\n",
        "  \n",
        "\n",
        "  \n",
        "\n",
        "*   from google .colab import drive   \n",
        "*  import library\n",
        "\n",
        "*  Brightness and Rotarion Augmentation\n",
        "*  Resolution\n",
        "\n",
        "*  Define pathe\n",
        "\n",
        "*   Clean up previous runs if needed\n",
        "*   Perform the defined augmentations on the specified directories.\n",
        "\n",
        "\n",
        "*  create a file with results\n",
        "\n",
        "\n",
        "\n",
        "\n",
        "\n",
        "\n",
        "   \n",
        "   \n",
        "   \n",
        "\n",
        "   \n",
        "   \n",
        "   \n",
        "    "
      ],
      "metadata": {
        "id": "GXHCfIQx2waX"
      }
    },
    {
      "cell_type": "markdown",
      "source": [
        "### This code provides a structured approach to image augmentation using brightness adjustment, rotation, and resolution enhancement"
      ],
      "metadata": {
        "id": "jiT804QW1Df0"
      }
    },
    {
      "cell_type": "markdown",
      "source": [
        "Purpose: This code mounts your Google Drive to the Colab environment, allowing you to access files stored in your Google Drive.\n",
        "\t•\tFunction: drive.mount('/content/drive') prompts you to authenticate and grant access to your Google Drive."
      ],
      "metadata": {
        "id": "mYdvS0kv1KZ3"
      }
    },
    {
      "cell_type": "code",
      "execution_count": null,
      "metadata": {
        "id": "-OGgVns137Bh",
        "colab": {
          "base_uri": "https://localhost:8080/"
        },
        "outputId": "3a66607b-3e85-41de-eaab-e1cd3a39afad"
      },
      "outputs": [
        {
          "output_type": "stream",
          "name": "stdout",
          "text": [
            "Drive already mounted at /content/drive; to attempt to forcibly remount, call drive.mount(\"/content/drive\", force_remount=True).\n"
          ]
        }
      ],
      "source": [
        "from google.colab import drive\n",
        "drive.mount('/content/drive')"
      ]
    },
    {
      "cell_type": "markdown",
      "source": [
        "os: Provides functions to interact with the operating system, such as reading and writing files.\n",
        "\t•\tcv2: OpenCV library for image processing tasks.\n",
        "\t•\tnumpy: Library for numerical operations and array handling.\n",
        "\t•\tshutil: Provides functions for high-level file operations, such as copying and removing files.\n",
        "\t•\tImageDataGenerator: A Keras class used to generate batches of tensor image data with real-time data augmentation."
      ],
      "metadata": {
        "id": "Iqgf18MC1Yp4"
      }
    },
    {
      "cell_type": "code",
      "source": [
        "import os #function to interact with system\n",
        "import cv2\n",
        "import numpy as np\n",
        "import shutil\n",
        "from tensorflow.keras.preprocessing.image import ImageDataGenerator"
      ],
      "metadata": {
        "id": "j40nMa_n4BJZ"
      },
      "execution_count": null,
      "outputs": []
    },
    {
      "cell_type": "markdown",
      "source": [
        "### Brightness and Rotation Augmentation"
      ],
      "metadata": {
        "id": "IXqLFLly1g6Y"
      }
    },
    {
      "cell_type": "markdown",
      "source": [
        "Purpose: Augments images by applying brightness adjustments and rotations.\n",
        "\t•\tParameters:\n",
        "\t•\tinput_dir: Directory containing the original images.\n",
        "\t•\toutput_dir: Directory where augmented images will be saved.\n",
        "\t•\tSteps:\n",
        "\t•\tCheck if output_dir exists, and create it if not.\n",
        "\t•\tDefine the augmentation options using ImageDataGenerator.\n",
        "\t•\tLoop through each image in input_dir.\n",
        "\t•\tLoad each image in grayscale mode using OpenCV.\n",
        "\t•\tExpand dimensions to match the expected input shape for the generator.\n",
        "\t•\tUse the datagen.flow method to generate and save augmented images, stopping after 5 augmentations per original image."
      ],
      "metadata": {
        "id": "wd1KAMKK1ulG"
      }
    },
    {
      "cell_type": "code",
      "source": [
        "def augment_brightness_rotation(input_dir, output_dir):\n",
        "    if not os.path.exists(output_dir):\n",
        "        os.makedirs(output_dir)\n",
        "\n",
        "    datagen = ImageDataGenerator(\n",
        "        brightness_range=[0.2, 1.0],\n",
        "        rotation_range=40,\n",
        "        rescale=1./255\n",
        "    )\n",
        "\n",
        "    for img_name in os.listdir(input_dir):\n",
        "        img_path = os.path.join(input_dir, img_name)\n",
        "        print(f\"Processing image for brightness and rotation: {img_path}\")\n",
        "\n",
        "        image = cv2.imread(img_path, cv2.IMREAD_GRAYSCALE)\n",
        "        if image is None:\n",
        "            print(f\"Failed to read image: {img_path}\")\n",
        "            continue\n",
        "\n",
        "        image = np.expand_dims(image, axis=-1)\n",
        "        image = np.expand_dims(image, axis=0)\n",
        "\n",
        "        i = 0\n",
        "        for batch in datagen.flow(image, batch_size=1, save_to_dir=output_dir, save_prefix='aug_bright_rot', save_format='png'):\n",
        "            i += 1\n",
        "            if i >= 5:\n",
        "                break"
      ],
      "metadata": {
        "id": "YIXiZhne4EqY"
      },
      "execution_count": null,
      "outputs": []
    },
    {
      "cell_type": "markdown",
      "source": [
        "### Resolution Augmentation\n",
        "\n"
      ],
      "metadata": {
        "id": "N01mwvOq14x0"
      }
    },
    {
      "cell_type": "markdown",
      "source": [
        "Purpose: Augments images by increasing their resolution.\n",
        "\t•\tParameters:\n",
        "\t•\tinput_dir: Directory containing the original images.\n",
        "\t•\toutput_dir: Directory where augmented images will be saved.\n",
        "\t•\tSteps:\n",
        "\t•\tCheck if output_dir exists, and create it if not.\n",
        "\t•\tLoop through each image in input_dir.\n",
        "\t•\tLoad each image in grayscale mode using OpenCV.\n",
        "\t•\tResize the image by a factor of 2 using cubic interpolation.\n",
        "\t•\tSave the augmented image to output_dir.\n"
      ],
      "metadata": {
        "id": "JPjq5XMA1-bD"
      }
    },
    {
      "cell_type": "code",
      "source": [
        "def augment_resolution(input_dir, output_dir):\n",
        "    if not os.path.exists(output_dir):\n",
        "        os.makedirs(output_dir)\n",
        "\n",
        "    for img_name in os.listdir(input_dir):\n",
        "        img_path = os.path.join(input_dir, img_name)\n",
        "        print(f\"Processing image for resolution: {img_path}\")\n",
        "\n",
        "        image = cv2.imread(img_path, cv2.IMREAD_GRAYSCALE)\n",
        "        if image is None:\n",
        "            print(f\"Failed to read image: {img_path}\")\n",
        "            continue\n",
        "\n",
        "        # Correct indentation for the following two lines\n",
        "        image = cv2.resize(image, None, fx=2, fy=2, interpolation=cv2.INTER_CUBIC)\n",
        "        output_path = os.path.join(output_dir, f'aug_res_{img_name}')\n",
        "        cv2.imwrite(output_path, image)"
      ],
      "metadata": {
        "id": "NzbAAcOx4FS6"
      },
      "execution_count": null,
      "outputs": []
    },
    {
      "cell_type": "markdown",
      "source": [
        "### Define pathe"
      ],
      "metadata": {
        "id": "mYRmQ6872OJ2"
      }
    },
    {
      "cell_type": "code",
      "source": [
        "# Define paths for the second augmentation (resolution)\n",
        "input_dir1 = '/content/drive/MyDrive/Accident Detection From CCTV Footage/data/val/Accident'\n",
        "output_dir1 = '/content/drive/MyDrive/daraset _update/val/Accident'  # Final output directory for augmented images"
      ],
      "metadata": {
        "id": "m4NaNkfO4Jpj"
      },
      "execution_count": null,
      "outputs": []
    },
    {
      "cell_type": "code",
      "source": [
        "# Define paths for the first augmentation (brightness and rotation)\n",
        "input_dir2 = '/content/drive/MyDrive/Accident Detection From CCTV Footage/data/val/Non Accident'\n",
        "output_dir2 = '//content/drive/MyDrive/daraset _update/test/ata/val/Non Accident'"
      ],
      "metadata": {
        "id": "ke2HDh_t4KVO"
      },
      "execution_count": null,
      "outputs": []
    },
    {
      "cell_type": "markdown",
      "source": [
        "Purpose: Remove existing directories and their contents to ensure a clean run.\n",
        "\t•\tFunction: shutil.rmtree(dir_path) deletes the directory and all its contents"
      ],
      "metadata": {
        "id": "4GEnfl_Q2aUJ"
      }
    },
    {
      "cell_type": "code",
      "source": [
        "# Clean up previous runs if needed\n",
        "for dir_path in [output_dir1, output_dir2]:\n",
        "    if os.path.exists(dir_path):\n",
        "        shutil.rmtree(dir_path)"
      ],
      "metadata": {
        "id": "xaiGvzLa4Meo"
      },
      "execution_count": null,
      "outputs": []
    },
    {
      "cell_type": "code",
      "source": [
        "import os  # Import the os module\n",
        "import shutil  # Import shutil for directory operations\n",
        "\n",
        "# Clean up previous runs if needed\n",
        "for dir_path in [output_dir1, output_dir2]:\n",
        "    if os.path.exists(dir_path):  # Now you can use os.path.exists\n",
        "        shutil.rmtree(dir_path)"
      ],
      "metadata": {
        "id": "72l_AGUrGnQU"
      },
      "execution_count": null,
      "outputs": []
    },
    {
      "cell_type": "markdown",
      "source": [
        "Purpose: Perform the defined augmentations on the specified directories.\n",
        "\t•\tFunctions:"
      ],
      "metadata": {
        "id": "YhaKRTgU2hFd"
      }
    },
    {
      "cell_type": "code",
      "source": [
        "# First augment: Brightness and Rotation on the first input directory\n",
        "augment_brightness_rotation(input_dir1, output_dir1)"
      ],
      "metadata": {
        "id": "rQkczXqQ4M5e",
        "colab": {
          "base_uri": "https://localhost:8080/"
        },
        "outputId": "fbd2d4b8-1324-44d6-aff4-c088579fe326"
      },
      "execution_count": null,
      "outputs": [
        {
          "output_type": "stream",
          "name": "stdout",
          "text": [
            "Processing image for brightness and rotation: /content/drive/MyDrive/Accident Detection From CCTV Footage/data/val/Accident/test27_9.jpg\n",
            "Processing image for brightness and rotation: /content/drive/MyDrive/Accident Detection From CCTV Footage/data/val/Accident/test_30.jpg\n",
            "Processing image for brightness and rotation: /content/drive/MyDrive/Accident Detection From CCTV Footage/data/val/Accident/test27_26.jpg\n",
            "Processing image for brightness and rotation: /content/drive/MyDrive/Accident Detection From CCTV Footage/data/val/Accident/test14_19.jpg\n",
            "Processing image for brightness and rotation: /content/drive/MyDrive/Accident Detection From CCTV Footage/data/val/Accident/test26_22.jpg\n",
            "Processing image for brightness and rotation: /content/drive/MyDrive/Accident Detection From CCTV Footage/data/val/Accident/test18_25.jpg\n",
            "Processing image for brightness and rotation: /content/drive/MyDrive/Accident Detection From CCTV Footage/data/val/Accident/test25_31.jpg\n",
            "Processing image for brightness and rotation: /content/drive/MyDrive/Accident Detection From CCTV Footage/data/val/Accident/test10_22.jpg\n",
            "Processing image for brightness and rotation: /content/drive/MyDrive/Accident Detection From CCTV Footage/data/val/Accident/test28_31.jpg\n",
            "Processing image for brightness and rotation: /content/drive/MyDrive/Accident Detection From CCTV Footage/data/val/Accident/test13_20.jpg\n",
            "Processing image for brightness and rotation: /content/drive/MyDrive/Accident Detection From CCTV Footage/data/val/Accident/test29_15.jpg\n",
            "Processing image for brightness and rotation: /content/drive/MyDrive/Accident Detection From CCTV Footage/data/val/Accident/test_26.jpg\n",
            "Processing image for brightness and rotation: /content/drive/MyDrive/Accident Detection From CCTV Footage/data/val/Accident/test27_21.jpg\n",
            "Processing image for brightness and rotation: /content/drive/MyDrive/Accident Detection From CCTV Footage/data/val/Accident/test7_32.jpg\n",
            "Processing image for brightness and rotation: /content/drive/MyDrive/Accident Detection From CCTV Footage/data/val/Accident/test27_18.jpg\n",
            "Processing image for brightness and rotation: /content/drive/MyDrive/Accident Detection From CCTV Footage/data/val/Accident/test28_29.jpg\n",
            "Processing image for brightness and rotation: /content/drive/MyDrive/Accident Detection From CCTV Footage/data/val/Accident/test23_15.jpg\n",
            "Processing image for brightness and rotation: /content/drive/MyDrive/Accident Detection From CCTV Footage/data/val/Accident/test_37.jpg\n",
            "Processing image for brightness and rotation: /content/drive/MyDrive/Accident Detection From CCTV Footage/data/val/Accident/test14_11.jpg\n",
            "Processing image for brightness and rotation: /content/drive/MyDrive/Accident Detection From CCTV Footage/data/val/Accident/test26_26.jpg\n",
            "Processing image for brightness and rotation: /content/drive/MyDrive/Accident Detection From CCTV Footage/data/val/Accident/test10_27.jpg\n",
            "Processing image for brightness and rotation: /content/drive/MyDrive/Accident Detection From CCTV Footage/data/val/Accident/test3_26.jpg\n",
            "Processing image for brightness and rotation: /content/drive/MyDrive/Accident Detection From CCTV Footage/data/val/Accident/test27_35.jpg\n",
            "Processing image for brightness and rotation: /content/drive/MyDrive/Accident Detection From CCTV Footage/data/val/Accident/test_45.jpg\n",
            "Processing image for brightness and rotation: /content/drive/MyDrive/Accident Detection From CCTV Footage/data/val/Accident/acc1 (6).jpg\n",
            "Processing image for brightness and rotation: /content/drive/MyDrive/Accident Detection From CCTV Footage/data/val/Accident/test27_17.jpg\n",
            "Processing image for brightness and rotation: /content/drive/MyDrive/Accident Detection From CCTV Footage/data/val/Accident/test10_23.jpg\n",
            "Processing image for brightness and rotation: /content/drive/MyDrive/Accident Detection From CCTV Footage/data/val/Accident/test_41.jpg\n",
            "Processing image for brightness and rotation: /content/drive/MyDrive/Accident Detection From CCTV Footage/data/val/Accident/test30_13.jpg\n",
            "Processing image for brightness and rotation: /content/drive/MyDrive/Accident Detection From CCTV Footage/data/val/Accident/test28_18.jpg\n",
            "Processing image for brightness and rotation: /content/drive/MyDrive/Accident Detection From CCTV Footage/data/val/Accident/test13_18.jpg\n",
            "Processing image for brightness and rotation: /content/drive/MyDrive/Accident Detection From CCTV Footage/data/val/Accident/test2_23.jpg\n",
            "Processing image for brightness and rotation: /content/drive/MyDrive/Accident Detection From CCTV Footage/data/val/Accident/test16_28.jpg\n",
            "Processing image for brightness and rotation: /content/drive/MyDrive/Accident Detection From CCTV Footage/data/val/Accident/test4_47.jpg\n",
            "Processing image for brightness and rotation: /content/drive/MyDrive/Accident Detection From CCTV Footage/data/val/Accident/test23_18.jpg\n",
            "Processing image for brightness and rotation: /content/drive/MyDrive/Accident Detection From CCTV Footage/data/val/Accident/test26_15.jpg\n",
            "Processing image for brightness and rotation: /content/drive/MyDrive/Accident Detection From CCTV Footage/data/val/Accident/test10_36.jpg\n",
            "Processing image for brightness and rotation: /content/drive/MyDrive/Accident Detection From CCTV Footage/data/val/Accident/acc1 (4).jpg\n",
            "Processing image for brightness and rotation: /content/drive/MyDrive/Accident Detection From CCTV Footage/data/val/Accident/test10_54.jpg\n",
            "Processing image for brightness and rotation: /content/drive/MyDrive/Accident Detection From CCTV Footage/data/val/Accident/test26_12.jpg\n",
            "Processing image for brightness and rotation: /content/drive/MyDrive/Accident Detection From CCTV Footage/data/val/Accident/test10_34.jpg\n",
            "Processing image for brightness and rotation: /content/drive/MyDrive/Accident Detection From CCTV Footage/data/val/Accident/test21_22.jpg\n",
            "Processing image for brightness and rotation: /content/drive/MyDrive/Accident Detection From CCTV Footage/data/val/Accident/test22_27.jpg\n",
            "Processing image for brightness and rotation: /content/drive/MyDrive/Accident Detection From CCTV Footage/data/val/Accident/test24_41.jpg\n",
            "Processing image for brightness and rotation: /content/drive/MyDrive/Accident Detection From CCTV Footage/data/val/Accident/test_35.jpg\n",
            "Processing image for brightness and rotation: /content/drive/MyDrive/Accident Detection From CCTV Footage/data/val/Accident/test15_9.jpg\n"
          ]
        }
      ]
    },
    {
      "cell_type": "code",
      "source": [
        "# Second augment: Resolution on the second input directory\n",
        "augment_resolution(input_dir2, output_dir2)\n",
        "\n",
        "print(\"Augmentation completed.\")"
      ],
      "metadata": {
        "id": "j201PMwu4M71",
        "colab": {
          "base_uri": "https://localhost:8080/"
        },
        "outputId": "66ca5871-c93b-4e89-cd7c-50d18a8f0bd8"
      },
      "execution_count": null,
      "outputs": [
        {
          "output_type": "stream",
          "name": "stdout",
          "text": [
            "Processing image for resolution: /content/drive/MyDrive/Accident Detection From CCTV Footage/data/val/Non Accident/test11_49.jpg\n",
            "Processing image for resolution: /content/drive/MyDrive/Accident Detection From CCTV Footage/data/val/Non Accident/test14_3.jpg\n",
            "Processing image for resolution: /content/drive/MyDrive/Accident Detection From CCTV Footage/data/val/Non Accident/5_16.jpg\n",
            "Processing image for resolution: /content/drive/MyDrive/Accident Detection From CCTV Footage/data/val/Non Accident/5_22.jpg\n",
            "Processing image for resolution: /content/drive/MyDrive/Accident Detection From CCTV Footage/data/val/Non Accident/5_26.jpg\n",
            "Processing image for resolution: /content/drive/MyDrive/Accident Detection From CCTV Footage/data/val/Non Accident/test10_1.jpg\n",
            "Processing image for resolution: /content/drive/MyDrive/Accident Detection From CCTV Footage/data/val/Non Accident/test10_3.jpg\n",
            "Processing image for resolution: /content/drive/MyDrive/Accident Detection From CCTV Footage/data/val/Non Accident/test24_8.jpg\n",
            "Processing image for resolution: /content/drive/MyDrive/Accident Detection From CCTV Footage/data/val/Non Accident/test4_2.jpg\n",
            "Processing image for resolution: /content/drive/MyDrive/Accident Detection From CCTV Footage/data/val/Non Accident/test7_37.jpg\n",
            "Processing image for resolution: /content/drive/MyDrive/Accident Detection From CCTV Footage/data/val/Non Accident/test4_21.jpg\n",
            "Processing image for resolution: /content/drive/MyDrive/Accident Detection From CCTV Footage/data/val/Non Accident/test26_11.jpg\n",
            "Processing image for resolution: /content/drive/MyDrive/Accident Detection From CCTV Footage/data/val/Non Accident/test29_22.jpg\n",
            "Processing image for resolution: /content/drive/MyDrive/Accident Detection From CCTV Footage/data/val/Non Accident/test22_19.jpg\n",
            "Processing image for resolution: /content/drive/MyDrive/Accident Detection From CCTV Footage/data/val/Non Accident/test18_6.jpg\n",
            "Processing image for resolution: /content/drive/MyDrive/Accident Detection From CCTV Footage/data/val/Non Accident/test26_8.jpg\n",
            "Processing image for resolution: /content/drive/MyDrive/Accident Detection From CCTV Footage/data/val/Non Accident/test28_14.jpg\n",
            "Processing image for resolution: /content/drive/MyDrive/Accident Detection From CCTV Footage/data/val/Non Accident/test15_18.jpg\n",
            "Processing image for resolution: /content/drive/MyDrive/Accident Detection From CCTV Footage/data/val/Non Accident/test25_10.jpg\n",
            "Processing image for resolution: /content/drive/MyDrive/Accident Detection From CCTV Footage/data/val/Non Accident/test9_15.jpg\n",
            "Processing image for resolution: /content/drive/MyDrive/Accident Detection From CCTV Footage/data/val/Non Accident/test24_1.jpg\n",
            "Processing image for resolution: /content/drive/MyDrive/Accident Detection From CCTV Footage/data/val/Non Accident/test22_17.jpg\n",
            "Processing image for resolution: /content/drive/MyDrive/Accident Detection From CCTV Footage/data/val/Non Accident/test25_22.jpg\n",
            "Processing image for resolution: /content/drive/MyDrive/Accident Detection From CCTV Footage/data/val/Non Accident/test4_14.jpg\n",
            "Processing image for resolution: /content/drive/MyDrive/Accident Detection From CCTV Footage/data/val/Non Accident/test3_5.jpg\n",
            "Processing image for resolution: /content/drive/MyDrive/Accident Detection From CCTV Footage/data/val/Non Accident/test9_8.jpg\n",
            "Processing image for resolution: /content/drive/MyDrive/Accident Detection From CCTV Footage/data/val/Non Accident/test25_17.jpg\n",
            "Processing image for resolution: /content/drive/MyDrive/Accident Detection From CCTV Footage/data/val/Non Accident/test_22.jpg\n",
            "Processing image for resolution: /content/drive/MyDrive/Accident Detection From CCTV Footage/data/val/Non Accident/test7_43.jpg\n",
            "Processing image for resolution: /content/drive/MyDrive/Accident Detection From CCTV Footage/data/val/Non Accident/test4_19.jpg\n",
            "Processing image for resolution: /content/drive/MyDrive/Accident Detection From CCTV Footage/data/val/Non Accident/test28_13.jpg\n",
            "Processing image for resolution: /content/drive/MyDrive/Accident Detection From CCTV Footage/data/val/Non Accident/test20_7.jpg\n",
            "Processing image for resolution: /content/drive/MyDrive/Accident Detection From CCTV Footage/data/val/Non Accident/test8_23.jpg\n",
            "Processing image for resolution: /content/drive/MyDrive/Accident Detection From CCTV Footage/data/val/Non Accident/test3_25.jpg\n",
            "Processing image for resolution: /content/drive/MyDrive/Accident Detection From CCTV Footage/data/val/Non Accident/test25_5.jpg\n",
            "Processing image for resolution: /content/drive/MyDrive/Accident Detection From CCTV Footage/data/val/Non Accident/test29_18.jpg\n",
            "Processing image for resolution: /content/drive/MyDrive/Accident Detection From CCTV Footage/data/val/Non Accident/test18_12.jpg\n",
            "Processing image for resolution: /content/drive/MyDrive/Accident Detection From CCTV Footage/data/val/Non Accident/test4_5.jpg\n",
            "Processing image for resolution: /content/drive/MyDrive/Accident Detection From CCTV Footage/data/val/Non Accident/test17_29.jpg\n",
            "Processing image for resolution: /content/drive/MyDrive/Accident Detection From CCTV Footage/data/val/Non Accident/test14_5.jpg\n",
            "Processing image for resolution: /content/drive/MyDrive/Accident Detection From CCTV Footage/data/val/Non Accident/test9_6.jpg\n",
            "Processing image for resolution: /content/drive/MyDrive/Accident Detection From CCTV Footage/data/val/Non Accident/test8_24.jpg\n",
            "Processing image for resolution: /content/drive/MyDrive/Accident Detection From CCTV Footage/data/val/Non Accident/test26_2.jpg\n",
            "Processing image for resolution: /content/drive/MyDrive/Accident Detection From CCTV Footage/data/val/Non Accident/test7_1.jpg\n",
            "Processing image for resolution: /content/drive/MyDrive/Accident Detection From CCTV Footage/data/val/Non Accident/test9_12.jpg\n",
            "Processing image for resolution: /content/drive/MyDrive/Accident Detection From CCTV Footage/data/val/Non Accident/test_17.jpg\n",
            "Processing image for resolution: /content/drive/MyDrive/Accident Detection From CCTV Footage/data/val/Non Accident/test15_27.jpg\n",
            "Processing image for resolution: /content/drive/MyDrive/Accident Detection From CCTV Footage/data/val/Non Accident/test24_13.jpg\n",
            "Processing image for resolution: /content/drive/MyDrive/Accident Detection From CCTV Footage/data/val/Non Accident/test8_9.jpg\n",
            "Processing image for resolution: /content/drive/MyDrive/Accident Detection From CCTV Footage/data/val/Non Accident/test16_12.jpg\n",
            "Processing image for resolution: /content/drive/MyDrive/Accident Detection From CCTV Footage/data/val/Non Accident/test30_5.jpg\n",
            "Processing image for resolution: /content/drive/MyDrive/Accident Detection From CCTV Footage/data/val/Non Accident/test4_57.jpg\n",
            "Augmentation completed.\n"
          ]
        }
      ]
    },
    {
      "cell_type": "code",
      "source": [
        "if not os.path.exists(output_dir1):\n",
        "    os.makedirs(output_dir1)"
      ],
      "metadata": {
        "id": "DOGyiNuJ4y0Y"
      },
      "execution_count": null,
      "outputs": []
    },
    {
      "cell_type": "code",
      "source": [
        "if not os.path.exists(output_dir2):\n",
        "    os.makedirs(output_dir2)"
      ],
      "metadata": {
        "id": "9aUHzY8h41JZ"
      },
      "execution_count": null,
      "outputs": []
    }
  ]
}